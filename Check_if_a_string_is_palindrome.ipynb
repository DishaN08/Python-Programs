{
 "cells": [
  {
   "cell_type": "markdown",
   "id": "d49f91a6",
   "metadata": {},
   "source": []
  },
  {
   "cell_type": "code",
   "execution_count": 1,
   "id": "9bc829b8",
   "metadata": {},
   "outputs": [
    {
     "name": "stdout",
     "output_type": "stream",
     "text": [
      "Enter the string: madam\n",
      "Yes\n",
      "Yes\n"
     ]
    }
   ],
   "source": [
    "string = input(\"Enter the string: \")\n",
    "high = len(string)-1\n",
    "low = 0\n",
    "status = 1\n",
    "while(low<high):\n",
    "    if(string[low]==string[high]):\n",
    "        print(\"Yes\")\n",
    "        low=low+1\n",
    "        high=high-1\n",
    "    else:\n",
    "        status = 0\n",
    "        print(\"No\")\n",
    "        break"
   ]
  },
  {
   "cell_type": "code",
   "execution_count": 2,
   "id": "ee9d7087",
   "metadata": {},
   "outputs": [
    {
     "name": "stdout",
     "output_type": "stream",
     "text": [
      "Enter the string: python\n",
      "No\n"
     ]
    }
   ],
   "source": [
    "string = input(\"Enter the string: \")\n",
    "high = len(string)-1\n",
    "low = 0\n",
    "status = 1\n",
    "while(low<high):\n",
    "    if(string[low]==string[high]):\n",
    "        print(\"Yes\")\n",
    "        low=low+1\n",
    "        high=high-1\n",
    "    else:\n",
    "        status = 0\n",
    "        print(\"No\")\n",
    "        break"
   ]
  },
  {
   "cell_type": "code",
   "execution_count": null,
   "id": "abcc5c14",
   "metadata": {},
   "outputs": [],
   "source": []
  }
 ],
 "metadata": {
  "kernelspec": {
   "display_name": "Python 3",
   "language": "python",
   "name": "python3"
  },
  "language_info": {
   "codemirror_mode": {
    "name": "ipython",
    "version": 3
   },
   "file_extension": ".py",
   "mimetype": "text/x-python",
   "name": "python",
   "nbconvert_exporter": "python",
   "pygments_lexer": "ipython3",
   "version": "3.8.8"
  }
 },
 "nbformat": 4,
 "nbformat_minor": 5
}
