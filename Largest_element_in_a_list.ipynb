{
 "cells": [
  {
   "cell_type": "code",
   "execution_count": 1,
   "id": "ffce03dc",
   "metadata": {},
   "outputs": [],
   "source": [
    "def getmax(l):\n",
    "    if not l:\n",
    "        return none\n",
    "    else:\n",
    "        res = l[0]\n",
    "        for i in range(1,len(l)):\n",
    "            if l[i]>res:\n",
    "                res=l[i]\n",
    "        return res"
   ]
  },
  {
   "cell_type": "code",
   "execution_count": 2,
   "id": "4aef1734",
   "metadata": {},
   "outputs": [],
   "source": [
    "l=[1,4,8,6,5]"
   ]
  },
  {
   "cell_type": "code",
   "execution_count": 3,
   "id": "52c52599",
   "metadata": {},
   "outputs": [
    {
     "data": {
      "text/plain": [
       "8"
      ]
     },
     "execution_count": 3,
     "metadata": {},
     "output_type": "execute_result"
    }
   ],
   "source": [
    "getmax(l)"
   ]
  },
  {
   "cell_type": "code",
   "execution_count": null,
   "id": "4f35fb3c",
   "metadata": {},
   "outputs": [],
   "source": []
  }
 ],
 "metadata": {
  "kernelspec": {
   "display_name": "Python 3",
   "language": "python",
   "name": "python3"
  },
  "language_info": {
   "codemirror_mode": {
    "name": "ipython",
    "version": 3
   },
   "file_extension": ".py",
   "mimetype": "text/x-python",
   "name": "python",
   "nbconvert_exporter": "python",
   "pygments_lexer": "ipython3",
   "version": "3.8.8"
  }
 },
 "nbformat": 4,
 "nbformat_minor": 5
}
