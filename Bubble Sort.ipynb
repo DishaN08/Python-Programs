{
 "cells": [
  {
   "cell_type": "code",
   "execution_count": 1,
   "id": "ca3dd4a1",
   "metadata": {},
   "outputs": [],
   "source": [
    "def bubblesort(arr,n):\n",
    "    temp=0\n",
    "    for i in range(0,n-1):\n",
    "        for j in range(0,n-i-1):\n",
    "            if arr[j]>arr[j+1]:\n",
    "                arr[j],arr[j+1]=arr[j+1],arr[j]\n",
    "    \n",
    "    for i in range(n):\n",
    "        print(arr[i],end=\" \")"
   ]
  },
  {
   "cell_type": "code",
   "execution_count": 2,
   "id": "9eb4eeef",
   "metadata": {},
   "outputs": [],
   "source": [
    "arr=[2,1,5,6,0,3]"
   ]
  },
  {
   "cell_type": "code",
   "execution_count": 3,
   "id": "ff0d9ab7",
   "metadata": {},
   "outputs": [],
   "source": [
    "n=len(arr)"
   ]
  },
  {
   "cell_type": "code",
   "execution_count": 4,
   "id": "485bb220",
   "metadata": {},
   "outputs": [
    {
     "name": "stdout",
     "output_type": "stream",
     "text": [
      "0 1 2 3 5 6 "
     ]
    }
   ],
   "source": [
    "bubblesort(arr,n)"
   ]
  },
  {
   "cell_type": "code",
   "execution_count": null,
   "id": "1d48d73d",
   "metadata": {},
   "outputs": [],
   "source": []
  }
 ],
 "metadata": {
  "kernelspec": {
   "display_name": "Python 3",
   "language": "python",
   "name": "python3"
  },
  "language_info": {
   "codemirror_mode": {
    "name": "ipython",
    "version": 3
   },
   "file_extension": ".py",
   "mimetype": "text/x-python",
   "name": "python",
   "nbconvert_exporter": "python",
   "pygments_lexer": "ipython3",
   "version": "3.8.8"
  }
 },
 "nbformat": 4,
 "nbformat_minor": 5
}
