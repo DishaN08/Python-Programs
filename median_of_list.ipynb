{
 "cells": [
  {
   "cell_type": "code",
   "execution_count": 1,
   "id": "99d48ef9",
   "metadata": {},
   "outputs": [
    {
     "name": "stdout",
     "output_type": "stream",
     "text": [
      "Median is: 3\n"
     ]
    }
   ],
   "source": [
    "#METHOD 1\n",
    "n_num = [1, 2, 3, 4, 5]\n",
    "n = len(n_num)\n",
    "n_num.sort()\n",
    "  \n",
    "if n % 2 == 0:\n",
    "    median1 = n_num[n//2]\n",
    "    median2 = n_num[n//2 - 1]\n",
    "    median = (median1 + median2)/2\n",
    "else:\n",
    "    median = n_num[n//2]\n",
    "print(\"Median is: \" + str(median))\n",
    "            "
   ]
  },
  {
   "cell_type": "code",
   "execution_count": 2,
   "id": "5298fa35",
   "metadata": {},
   "outputs": [],
   "source": [
    "# METHOD 2\n",
    "def med(l):\n",
    "    if len(l)%2==0:\n",
    "        med1 = l[len(l)//2]\n",
    "        med2 = l[len(l)//2  - 1]\n",
    "        return (med1 + med2)/2\n",
    "    else:\n",
    "        return l[len(l)//2]"
   ]
  },
  {
   "cell_type": "code",
   "execution_count": 3,
   "id": "19f38a8f",
   "metadata": {},
   "outputs": [],
   "source": [
    "l=[2,7,3,5,6,1,4]"
   ]
  },
  {
   "cell_type": "code",
   "execution_count": 4,
   "id": "808a8b2b",
   "metadata": {},
   "outputs": [
    {
     "data": {
      "text/plain": [
       "5"
      ]
     },
     "execution_count": 4,
     "metadata": {},
     "output_type": "execute_result"
    }
   ],
   "source": [
    "med(l)"
   ]
  },
  {
   "cell_type": "code",
   "execution_count": null,
   "id": "62d28034",
   "metadata": {},
   "outputs": [],
   "source": []
  }
 ],
 "metadata": {
  "kernelspec": {
   "display_name": "Python 3",
   "language": "python",
   "name": "python3"
  },
  "language_info": {
   "codemirror_mode": {
    "name": "ipython",
    "version": 3
   },
   "file_extension": ".py",
   "mimetype": "text/x-python",
   "name": "python",
   "nbconvert_exporter": "python",
   "pygments_lexer": "ipython3",
   "version": "3.8.8"
  }
 },
 "nbformat": 4,
 "nbformat_minor": 5
}
