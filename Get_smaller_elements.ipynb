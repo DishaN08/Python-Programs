{
 "cells": [
  {
   "cell_type": "code",
   "execution_count": 1,
   "id": "d72a0192",
   "metadata": {},
   "outputs": [],
   "source": [
    "def get_smaller(l,x):\n",
    "    return [e for e in l if e<x]"
   ]
  },
  {
   "cell_type": "code",
   "execution_count": 2,
   "id": "8f3c312d",
   "metadata": {},
   "outputs": [],
   "source": [
    "l=[10,20,30,40,50,60]\n",
    "x=32"
   ]
  },
  {
   "cell_type": "code",
   "execution_count": 3,
   "id": "e4fccf3d",
   "metadata": {},
   "outputs": [
    {
     "data": {
      "text/plain": [
       "[10, 20, 30]"
      ]
     },
     "execution_count": 3,
     "metadata": {},
     "output_type": "execute_result"
    }
   ],
   "source": [
    "get_smaller(l,x)"
   ]
  },
  {
   "cell_type": "code",
   "execution_count": null,
   "id": "bdcaba0e",
   "metadata": {},
   "outputs": [],
   "source": []
  }
 ],
 "metadata": {
  "kernelspec": {
   "display_name": "Python 3",
   "language": "python",
   "name": "python3"
  },
  "language_info": {
   "codemirror_mode": {
    "name": "ipython",
    "version": 3
   },
   "file_extension": ".py",
   "mimetype": "text/x-python",
   "name": "python",
   "nbconvert_exporter": "python",
   "pygments_lexer": "ipython3",
   "version": "3.8.8"
  }
 },
 "nbformat": 4,
 "nbformat_minor": 5
}
