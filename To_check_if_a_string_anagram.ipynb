{
 "cells": [
  {
   "cell_type": "markdown",
   "id": "9fc20c38",
   "metadata": {},
   "source": [
    "## Method 1"
   ]
  },
  {
   "cell_type": "code",
   "execution_count": 1,
   "id": "d4147967",
   "metadata": {},
   "outputs": [],
   "source": [
    "def checkana(s1,s2):\n",
    "    if len(s1)!=len(s2):\n",
    "        return False\n",
    "    else:\n",
    "        s1=sorted(s1)\n",
    "        s2=sorted(s2)\n",
    "        return(s1==s2)"
   ]
  },
  {
   "cell_type": "code",
   "execution_count": 2,
   "id": "502e8863",
   "metadata": {},
   "outputs": [],
   "source": [
    "s1=\"listen\"\n",
    "s2=\"silent\""
   ]
  },
  {
   "cell_type": "code",
   "execution_count": 3,
   "id": "4592929c",
   "metadata": {},
   "outputs": [
    {
     "data": {
      "text/plain": [
       "True"
      ]
     },
     "execution_count": 3,
     "metadata": {},
     "output_type": "execute_result"
    }
   ],
   "source": [
    "checkana(s1,s2)"
   ]
  },
  {
   "cell_type": "code",
   "execution_count": 4,
   "id": "8339efbf",
   "metadata": {},
   "outputs": [],
   "source": [
    "s1=\"abc\"\n",
    "s2=\"abd\""
   ]
  },
  {
   "cell_type": "code",
   "execution_count": 5,
   "id": "3649742b",
   "metadata": {},
   "outputs": [
    {
     "data": {
      "text/plain": [
       "False"
      ]
     },
     "execution_count": 5,
     "metadata": {},
     "output_type": "execute_result"
    }
   ],
   "source": [
    "checkana(s1,s2)"
   ]
  },
  {
   "cell_type": "code",
   "execution_count": 6,
   "id": "acc2a8c8",
   "metadata": {},
   "outputs": [],
   "source": [
    "s1=\"abcd\"\n",
    "s2=\"abcde\""
   ]
  },
  {
   "cell_type": "code",
   "execution_count": 7,
   "id": "1f80bd55",
   "metadata": {},
   "outputs": [
    {
     "data": {
      "text/plain": [
       "False"
      ]
     },
     "execution_count": 7,
     "metadata": {},
     "output_type": "execute_result"
    }
   ],
   "source": [
    "checkana(s1,s2)"
   ]
  },
  {
   "cell_type": "markdown",
   "id": "516c4e34",
   "metadata": {},
   "source": [
    "## Method 2"
   ]
  },
  {
   "cell_type": "code",
   "execution_count": 8,
   "id": "f50ed379",
   "metadata": {},
   "outputs": [],
   "source": [
    "def isanagram(s1,s2):\n",
    "    if len(s1)!=len(s2):\n",
    "        return False\n",
    "    count=[0]*256\n",
    "    for i in range(len(s1)):\n",
    "        count[ord(s1[i])]+=1\n",
    "        count[ord(s2[i])]-=1\n",
    "    for x in count:\n",
    "        if x!=0:\n",
    "            return False\n",
    "    return True"
   ]
  },
  {
   "cell_type": "code",
   "execution_count": 9,
   "id": "84877dc1",
   "metadata": {},
   "outputs": [],
   "source": [
    "s1=\"listen\"\n",
    "s2=\"silent\""
   ]
  },
  {
   "cell_type": "code",
   "execution_count": 10,
   "id": "50b17ce0",
   "metadata": {},
   "outputs": [
    {
     "data": {
      "text/plain": [
       "True"
      ]
     },
     "execution_count": 10,
     "metadata": {},
     "output_type": "execute_result"
    }
   ],
   "source": [
    "isanagram(s1,s2)"
   ]
  },
  {
   "cell_type": "code",
   "execution_count": 11,
   "id": "a58f687b",
   "metadata": {},
   "outputs": [],
   "source": [
    "s1=\"abc\"\n",
    "s2=\"abd\""
   ]
  },
  {
   "cell_type": "code",
   "execution_count": 12,
   "id": "09e65f42",
   "metadata": {},
   "outputs": [
    {
     "data": {
      "text/plain": [
       "False"
      ]
     },
     "execution_count": 12,
     "metadata": {},
     "output_type": "execute_result"
    }
   ],
   "source": [
    "isanagram(s1,s2)"
   ]
  },
  {
   "cell_type": "code",
   "execution_count": null,
   "id": "7d4fbe66",
   "metadata": {},
   "outputs": [],
   "source": []
  }
 ],
 "metadata": {
  "kernelspec": {
   "display_name": "Python 3",
   "language": "python",
   "name": "python3"
  },
  "language_info": {
   "codemirror_mode": {
    "name": "ipython",
    "version": 3
   },
   "file_extension": ".py",
   "mimetype": "text/x-python",
   "name": "python",
   "nbconvert_exporter": "python",
   "pygments_lexer": "ipython3",
   "version": "3.8.8"
  }
 },
 "nbformat": 4,
 "nbformat_minor": 5
}
