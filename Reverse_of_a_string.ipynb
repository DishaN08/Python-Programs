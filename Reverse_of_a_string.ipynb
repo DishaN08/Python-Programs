{
 "cells": [
  {
   "cell_type": "markdown",
   "id": "14ce8414",
   "metadata": {},
   "source": [
    "## Method 1"
   ]
  },
  {
   "cell_type": "code",
   "execution_count": 1,
   "id": "eb0a3897",
   "metadata": {},
   "outputs": [
    {
     "name": "stdout",
     "output_type": "stream",
     "text": [
      "Enter String: python\n",
      "nohtyp \n"
     ]
    }
   ],
   "source": [
    "s=input(\"Enter String: \")\n",
    "rev= \" \"\n",
    "for i in s:\n",
    "    rev = i+rev\n",
    "print(rev)"
   ]
  },
  {
   "cell_type": "markdown",
   "id": "e3643256",
   "metadata": {},
   "source": [
    "## Method 2"
   ]
  },
  {
   "cell_type": "code",
   "execution_count": 2,
   "id": "30758df7",
   "metadata": {},
   "outputs": [
    {
     "name": "stdout",
     "output_type": "stream",
     "text": [
      "Enter String: string\n",
      "gnirts\n"
     ]
    }
   ],
   "source": [
    "s= input(\"Enter String: \")\n",
    "print(s[::-1])"
   ]
  },
  {
   "cell_type": "code",
   "execution_count": null,
   "id": "f6ea9550",
   "metadata": {},
   "outputs": [],
   "source": []
  }
 ],
 "metadata": {
  "kernelspec": {
   "display_name": "Python 3",
   "language": "python",
   "name": "python3"
  },
  "language_info": {
   "codemirror_mode": {
    "name": "ipython",
    "version": 3
   },
   "file_extension": ".py",
   "mimetype": "text/x-python",
   "name": "python",
   "nbconvert_exporter": "python",
   "pygments_lexer": "ipython3",
   "version": "3.8.8"
  }
 },
 "nbformat": 4,
 "nbformat_minor": 5
}
