{
 "cells": [
  {
   "cell_type": "markdown",
   "id": "f2486fb6",
   "metadata": {},
   "source": [
    "## METHOD 1"
   ]
  },
  {
   "cell_type": "code",
   "execution_count": 1,
   "id": "d6838ad0",
   "metadata": {},
   "outputs": [],
   "source": [
    "#Using Slicing\n",
    "l=[10,20,30,40]"
   ]
  },
  {
   "cell_type": "code",
   "execution_count": 2,
   "id": "1da425c2",
   "metadata": {},
   "outputs": [],
   "source": [
    "new_l=l[::-1]"
   ]
  },
  {
   "cell_type": "code",
   "execution_count": 3,
   "id": "3e65bddd",
   "metadata": {},
   "outputs": [
    {
     "data": {
      "text/plain": [
       "[40, 30, 20, 10]"
      ]
     },
     "execution_count": 3,
     "metadata": {},
     "output_type": "execute_result"
    }
   ],
   "source": [
    "new_l"
   ]
  },
  {
   "cell_type": "markdown",
   "id": "203ac7b1",
   "metadata": {},
   "source": [
    "## METHOD 2"
   ]
  },
  {
   "cell_type": "code",
   "execution_count": 4,
   "id": "b24cf08a",
   "metadata": {},
   "outputs": [],
   "source": [
    "#Using library\n",
    "l1=[10,20,30,40]"
   ]
  },
  {
   "cell_type": "code",
   "execution_count": 5,
   "id": "18a78207",
   "metadata": {},
   "outputs": [],
   "source": [
    "l1.reverse()"
   ]
  },
  {
   "cell_type": "code",
   "execution_count": 6,
   "id": "86f0e3be",
   "metadata": {},
   "outputs": [
    {
     "data": {
      "text/plain": [
       "[40, 30, 20, 10]"
      ]
     },
     "execution_count": 6,
     "metadata": {},
     "output_type": "execute_result"
    }
   ],
   "source": [
    "l1"
   ]
  },
  {
   "cell_type": "markdown",
   "id": "12e07157",
   "metadata": {},
   "source": [
    "## METHOD 3 "
   ]
  },
  {
   "cell_type": "code",
   "execution_count": 7,
   "id": "e4d9fff0",
   "metadata": {},
   "outputs": [],
   "source": [
    "def revlist(lst):\n",
    "    l=[]\n",
    "    for i in lst:\n",
    "        l.insert(0,i)\n",
    "    return l        "
   ]
  },
  {
   "cell_type": "code",
   "execution_count": 8,
   "id": "6c250639",
   "metadata": {},
   "outputs": [],
   "source": [
    "lst=[10,11,12,13,14]"
   ]
  },
  {
   "cell_type": "code",
   "execution_count": 9,
   "id": "1a704448",
   "metadata": {},
   "outputs": [
    {
     "name": "stdout",
     "output_type": "stream",
     "text": [
      "[14, 13, 12, 11, 10]\n"
     ]
    }
   ],
   "source": [
    "print(revlist(lst))"
   ]
  },
  {
   "cell_type": "code",
   "execution_count": null,
   "id": "a43bd729",
   "metadata": {},
   "outputs": [],
   "source": []
  }
 ],
 "metadata": {
  "kernelspec": {
   "display_name": "Python 3",
   "language": "python",
   "name": "python3"
  },
  "language_info": {
   "codemirror_mode": {
    "name": "ipython",
    "version": 3
   },
   "file_extension": ".py",
   "mimetype": "text/x-python",
   "name": "python",
   "nbconvert_exporter": "python",
   "pygments_lexer": "ipython3",
   "version": "3.8.8"
  }
 },
 "nbformat": 4,
 "nbformat_minor": 5
}
