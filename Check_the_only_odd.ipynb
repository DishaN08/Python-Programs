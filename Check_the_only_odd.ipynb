{
 "cells": [
  {
   "cell_type": "code",
   "execution_count": 1,
   "id": "9c7b9e9b",
   "metadata": {},
   "outputs": [],
   "source": [
    "def checkl(l):\n",
    "  res = None\n",
    "  for x in l:\n",
    "    count = l.count(x)\n",
    "    if count%2!=0:\n",
    "      res = x\n",
    "      break\n",
    "  return res"
   ]
  },
  {
   "cell_type": "code",
   "execution_count": 2,
   "id": "fde9fc08",
   "metadata": {},
   "outputs": [],
   "source": [
    "l=[10,20,10]"
   ]
  },
  {
   "cell_type": "code",
   "execution_count": 3,
   "id": "56e02503",
   "metadata": {},
   "outputs": [
    {
     "data": {
      "text/plain": [
       "20"
      ]
     },
     "execution_count": 3,
     "metadata": {},
     "output_type": "execute_result"
    }
   ],
   "source": [
    "checkl(l)"
   ]
  },
  {
   "cell_type": "code",
   "execution_count": null,
   "id": "d2f3229b",
   "metadata": {},
   "outputs": [],
   "source": []
  }
 ],
 "metadata": {
  "kernelspec": {
   "display_name": "Python 3",
   "language": "python",
   "name": "python3"
  },
  "language_info": {
   "codemirror_mode": {
    "name": "ipython",
    "version": 3
   },
   "file_extension": ".py",
   "mimetype": "text/x-python",
   "name": "python",
   "nbconvert_exporter": "python",
   "pygments_lexer": "ipython3",
   "version": "3.8.8"
  }
 },
 "nbformat": 4,
 "nbformat_minor": 5
}
