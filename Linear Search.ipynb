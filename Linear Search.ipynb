{
 "cells": [
  {
   "cell_type": "code",
   "execution_count": 1,
   "id": "56e5c581",
   "metadata": {},
   "outputs": [],
   "source": [
    "def linearsearch(arr,length,item):\n",
    "    for i in range(0,length):\n",
    "        if arr[i]==item:\n",
    "            print(\"Element found at position \",i)\n",
    "    return"
   ]
  },
  {
   "cell_type": "code",
   "execution_count": 2,
   "id": "aef1bcfd",
   "metadata": {},
   "outputs": [],
   "source": [
    "arr=[1,2,3,4,5,6,7,8,9]"
   ]
  },
  {
   "cell_type": "code",
   "execution_count": 3,
   "id": "b6648167",
   "metadata": {},
   "outputs": [],
   "source": [
    "length=len(arr)"
   ]
  },
  {
   "cell_type": "code",
   "execution_count": 4,
   "id": "9c21bde0",
   "metadata": {},
   "outputs": [],
   "source": [
    "item=7"
   ]
  },
  {
   "cell_type": "code",
   "execution_count": 5,
   "id": "c47a625e",
   "metadata": {},
   "outputs": [
    {
     "name": "stdout",
     "output_type": "stream",
     "text": [
      "Element found at position  6\n"
     ]
    }
   ],
   "source": [
    "linearsearch(arr,length,item)"
   ]
  },
  {
   "cell_type": "code",
   "execution_count": null,
   "id": "d7877a50",
   "metadata": {},
   "outputs": [],
   "source": []
  }
 ],
 "metadata": {
  "kernelspec": {
   "display_name": "Python 3",
   "language": "python",
   "name": "python3"
  },
  "language_info": {
   "codemirror_mode": {
    "name": "ipython",
    "version": 3
   },
   "file_extension": ".py",
   "mimetype": "text/x-python",
   "name": "python",
   "nbconvert_exporter": "python",
   "pygments_lexer": "ipython3",
   "version": "3.8.8"
  }
 },
 "nbformat": 4,
 "nbformat_minor": 5
}
