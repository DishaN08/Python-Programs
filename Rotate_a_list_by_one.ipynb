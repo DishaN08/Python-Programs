{
 "cells": [
  {
   "cell_type": "markdown",
   "id": "8ac88fce",
   "metadata": {},
   "source": [
    "## METHOD 1"
   ]
  },
  {
   "cell_type": "code",
   "execution_count": 1,
   "id": "fd85b37f",
   "metadata": {},
   "outputs": [],
   "source": [
    "l=[1,2,3,4]"
   ]
  },
  {
   "cell_type": "code",
   "execution_count": 2,
   "id": "bf993d77",
   "metadata": {},
   "outputs": [
    {
     "data": {
      "text/plain": [
       "[2, 3, 4, 1]"
      ]
     },
     "execution_count": 2,
     "metadata": {},
     "output_type": "execute_result"
    }
   ],
   "source": [
    "l[1:] + l[0:1]"
   ]
  },
  {
   "cell_type": "markdown",
   "id": "d994910d",
   "metadata": {},
   "source": [
    "## METHOD 2"
   ]
  },
  {
   "cell_type": "code",
   "execution_count": 3,
   "id": "a64fcb80",
   "metadata": {},
   "outputs": [],
   "source": [
    "l.append(l.pop(0))"
   ]
  },
  {
   "cell_type": "code",
   "execution_count": 4,
   "id": "a508e6bb",
   "metadata": {},
   "outputs": [
    {
     "data": {
      "text/plain": [
       "[2, 3, 4, 1]"
      ]
     },
     "execution_count": 4,
     "metadata": {},
     "output_type": "execute_result"
    }
   ],
   "source": [
    "l"
   ]
  },
  {
   "cell_type": "markdown",
   "id": "58465df3",
   "metadata": {},
   "source": [
    "## METHOD 3"
   ]
  },
  {
   "cell_type": "code",
   "execution_count": 5,
   "id": "ca628855",
   "metadata": {},
   "outputs": [],
   "source": [
    "def rotatebyone(l):\n",
    "    n= len(l)\n",
    "    x= l[0]\n",
    "    for i in range(1,n):\n",
    "        l[i-1]=l[i]\n",
    "    l[n-1]=x\n",
    "    return l\n",
    "    "
   ]
  },
  {
   "cell_type": "code",
   "execution_count": 6,
   "id": "9bb48369",
   "metadata": {},
   "outputs": [],
   "source": [
    "l=[1,2,3,4]\n"
   ]
  },
  {
   "cell_type": "code",
   "execution_count": 7,
   "id": "9b43414a",
   "metadata": {},
   "outputs": [
    {
     "data": {
      "text/plain": [
       "[2, 3, 4, 1]"
      ]
     },
     "execution_count": 7,
     "metadata": {},
     "output_type": "execute_result"
    }
   ],
   "source": [
    "rotatebyone(l)"
   ]
  },
  {
   "cell_type": "code",
   "execution_count": null,
   "id": "4b3147ee",
   "metadata": {},
   "outputs": [],
   "source": []
  }
 ],
 "metadata": {
  "kernelspec": {
   "display_name": "Python 3",
   "language": "python",
   "name": "python3"
  },
  "language_info": {
   "codemirror_mode": {
    "name": "ipython",
    "version": 3
   },
   "file_extension": ".py",
   "mimetype": "text/x-python",
   "name": "python",
   "nbconvert_exporter": "python",
   "pygments_lexer": "ipython3",
   "version": "3.8.8"
  }
 },
 "nbformat": 4,
 "nbformat_minor": 5
}
