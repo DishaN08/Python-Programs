{
 "cells": [
  {
   "cell_type": "code",
   "execution_count": 1,
   "id": "641be501",
   "metadata": {},
   "outputs": [],
   "source": [
    "def binarysearch(arr,left,right,item):\n",
    "    arr.sort()\n",
    "    if right>=left:\n",
    "        mid=left+(right-left)//2\n",
    "        if(arr[mid]==item):\n",
    "            return mid\n",
    "        elif arr[mid]<item:\n",
    "            return binarysearch(arr,mid-1,right,item)\n",
    "        else:\n",
    "            return binarysearch(arr,left,mid+1,item)\n",
    "            \n",
    "    \n",
    "     \n",
    "    "
   ]
  },
  {
   "cell_type": "code",
   "execution_count": 2,
   "id": "57d0913b",
   "metadata": {},
   "outputs": [],
   "source": [
    "arr=[6,7,8,2,1,4]"
   ]
  },
  {
   "cell_type": "code",
   "execution_count": 3,
   "id": "cb404c27",
   "metadata": {},
   "outputs": [],
   "source": [
    "item=2\n",
    "left=0\n",
    "right=len(arr)-1"
   ]
  },
  {
   "cell_type": "code",
   "execution_count": 4,
   "id": "0921c306",
   "metadata": {},
   "outputs": [
    {
     "data": {
      "text/plain": [
       "1"
      ]
     },
     "execution_count": 4,
     "metadata": {},
     "output_type": "execute_result"
    }
   ],
   "source": [
    "binarysearch(arr,left,right,item)"
   ]
  },
  {
   "cell_type": "code",
   "execution_count": null,
   "id": "ed4289cb",
   "metadata": {},
   "outputs": [],
   "source": []
  }
 ],
 "metadata": {
  "kernelspec": {
   "display_name": "Python 3",
   "language": "python",
   "name": "python3"
  },
  "language_info": {
   "codemirror_mode": {
    "name": "ipython",
    "version": 3
   },
   "file_extension": ".py",
   "mimetype": "text/x-python",
   "name": "python",
   "nbconvert_exporter": "python",
   "pygments_lexer": "ipython3",
   "version": "3.8.8"
  }
 },
 "nbformat": 4,
 "nbformat_minor": 5
}
