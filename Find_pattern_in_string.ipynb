{
 "cells": [
  {
   "cell_type": "markdown",
   "id": "d9e22c7d",
   "metadata": {},
   "source": []
  },
  {
   "cell_type": "markdown",
   "id": "f452219f",
   "metadata": {},
   "source": []
  },
  {
   "cell_type": "code",
   "execution_count": 1,
   "id": "2b52dc65",
   "metadata": {},
   "outputs": [
    {
     "name": "stdout",
     "output_type": "stream",
     "text": [
      "Enter text: One Two Three One\n",
      "Enter pattern: One\n",
      "0\n",
      "14\n"
     ]
    }
   ],
   "source": [
    "txt= input(\"Enter text: \")\n",
    "pat= input(\"Enter pattern: \")\n",
    "pos= txt.find(pat)\n",
    "while pos>=0:\n",
    "    print(pos)\n",
    "    pos= txt.find(pat, pos+1)"
   ]
  },
  {
   "cell_type": "code",
   "execution_count": null,
   "id": "2d120e7a",
   "metadata": {},
   "outputs": [],
   "source": []
  }
 ],
 "metadata": {
  "kernelspec": {
   "display_name": "Python 3",
   "language": "python",
   "name": "python3"
  },
  "language_info": {
   "codemirror_mode": {
    "name": "ipython",
    "version": 3
   },
   "file_extension": ".py",
   "mimetype": "text/x-python",
   "name": "python",
   "nbconvert_exporter": "python",
   "pygments_lexer": "ipython3",
   "version": "3.8.8"
  }
 },
 "nbformat": 4,
 "nbformat_minor": 5
}
