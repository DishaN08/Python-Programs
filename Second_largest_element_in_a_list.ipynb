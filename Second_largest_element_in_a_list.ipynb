{
 "cells": [
  {
   "cell_type": "code",
   "execution_count": 1,
   "id": "5202e28f",
   "metadata": {},
   "outputs": [],
   "source": [
    "def calc_largest(arr):  \n",
    "    second_largest = arr[0]  \n",
    "    largest_val = arr[0]  \n",
    "    for i in range(len(arr)):  \n",
    "        if arr[i] > largest_val:  \n",
    "            largest_val = arr[i]  \n",
    "  \n",
    "    for i in range(len(arr)):  \n",
    "        if arr[i] > second_largest and arr[i] != largest_val:  \n",
    "            second_largest = arr[i]  \n",
    "  \n",
    "    return second_largest"
   ]
  },
  {
   "cell_type": "code",
   "execution_count": 2,
   "id": "ea4f7f54",
   "metadata": {},
   "outputs": [],
   "source": [
    "arr=[10,20,50,60,30]"
   ]
  },
  {
   "cell_type": "code",
   "execution_count": 3,
   "id": "cb5dabc8",
   "metadata": {},
   "outputs": [
    {
     "data": {
      "text/plain": [
       "50"
      ]
     },
     "execution_count": 3,
     "metadata": {},
     "output_type": "execute_result"
    }
   ],
   "source": [
    "calc_largest(arr)"
   ]
  },
  {
   "cell_type": "code",
   "execution_count": null,
   "id": "c3c341da",
   "metadata": {},
   "outputs": [],
   "source": []
  }
 ],
 "metadata": {
  "kernelspec": {
   "display_name": "Python 3",
   "language": "python",
   "name": "python3"
  },
  "language_info": {
   "codemirror_mode": {
    "name": "ipython",
    "version": 3
   },
   "file_extension": ".py",
   "mimetype": "text/x-python",
   "name": "python",
   "nbconvert_exporter": "python",
   "pygments_lexer": "ipython3",
   "version": "3.8.8"
  }
 },
 "nbformat": 4,
 "nbformat_minor": 5
}
