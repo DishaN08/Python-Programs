{
 "cells": [
  {
   "cell_type": "code",
   "execution_count": 1,
   "id": "a5418ea1",
   "metadata": {},
   "outputs": [],
   "source": [
    "def getEvenOdd(l):\n",
    "    even=[]\n",
    "    odd=[]\n",
    "    for x in l:\n",
    "        if x%2==0:\n",
    "            even.append(x)\n",
    "        else:\n",
    "            odd.append(x)\n",
    "    return even,odd"
   ]
  },
  {
   "cell_type": "code",
   "execution_count": 2,
   "id": "b30b79e6",
   "metadata": {},
   "outputs": [],
   "source": [
    "l=[1,4,20,33,50,67]"
   ]
  },
  {
   "cell_type": "code",
   "execution_count": 3,
   "id": "ab6d3f3a",
   "metadata": {},
   "outputs": [],
   "source": [
    "even, odd = getEvenOdd(l)"
   ]
  },
  {
   "cell_type": "code",
   "execution_count": 4,
   "id": "e6dbafda",
   "metadata": {},
   "outputs": [
    {
     "name": "stdout",
     "output_type": "stream",
     "text": [
      "even:  [4, 20, 50]\n",
      "odd:  [1, 33, 67]\n"
     ]
    }
   ],
   "source": [
    "print(\"even: \",even)\n",
    "print(\"odd: \", odd)"
   ]
  },
  {
   "cell_type": "code",
   "execution_count": null,
   "id": "483d7c7d",
   "metadata": {},
   "outputs": [],
   "source": []
  }
 ],
 "metadata": {
  "kernelspec": {
   "display_name": "Python 3",
   "language": "python",
   "name": "python3"
  },
  "language_info": {
   "codemirror_mode": {
    "name": "ipython",
    "version": 3
   },
   "file_extension": ".py",
   "mimetype": "text/x-python",
   "name": "python",
   "nbconvert_exporter": "python",
   "pygments_lexer": "ipython3",
   "version": "3.8.8"
  }
 },
 "nbformat": 4,
 "nbformat_minor": 5
}
