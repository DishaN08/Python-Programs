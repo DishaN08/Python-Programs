{
 "cells": [
  {
   "cell_type": "code",
   "execution_count": 1,
   "id": "ac813b41",
   "metadata": {},
   "outputs": [],
   "source": [
    "def issort(l):\n",
    "  l1= l[:]\n",
    "  l1.sort()\n",
    "  if l1==l:\n",
    "    print(\"Yes\")\n",
    "  else:\n",
    "    print(\"No\")"
   ]
  },
  {
   "cell_type": "code",
   "execution_count": 2,
   "id": "9213d66d",
   "metadata": {},
   "outputs": [],
   "source": [
    "l=[10,20,30]"
   ]
  },
  {
   "cell_type": "code",
   "execution_count": 3,
   "id": "f0562083",
   "metadata": {},
   "outputs": [
    {
     "name": "stdout",
     "output_type": "stream",
     "text": [
      "Yes\n"
     ]
    }
   ],
   "source": [
    "issort(l)"
   ]
  },
  {
   "cell_type": "code",
   "execution_count": 4,
   "id": "89f503eb",
   "metadata": {},
   "outputs": [],
   "source": [
    "l=[20,10,30]"
   ]
  },
  {
   "cell_type": "code",
   "execution_count": 5,
   "id": "7a2fb4c6",
   "metadata": {},
   "outputs": [
    {
     "name": "stdout",
     "output_type": "stream",
     "text": [
      "No\n"
     ]
    }
   ],
   "source": [
    "issort(l)"
   ]
  },
  {
   "cell_type": "code",
   "execution_count": null,
   "id": "9414a367",
   "metadata": {},
   "outputs": [],
   "source": []
  }
 ],
 "metadata": {
  "kernelspec": {
   "display_name": "Python 3",
   "language": "python",
   "name": "python3"
  },
  "language_info": {
   "codemirror_mode": {
    "name": "ipython",
    "version": 3
   },
   "file_extension": ".py",
   "mimetype": "text/x-python",
   "name": "python",
   "nbconvert_exporter": "python",
   "pygments_lexer": "ipython3",
   "version": "3.8.8"
  }
 },
 "nbformat": 4,
 "nbformat_minor": 5
}
